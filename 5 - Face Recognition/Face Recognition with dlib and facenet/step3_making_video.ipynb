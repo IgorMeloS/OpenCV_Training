{
 "cells": [
  {
   "cell_type": "code",
   "execution_count": 1,
   "id": "c4b0e3be",
   "metadata": {},
   "outputs": [],
   "source": [
    "from imutils.video import VideoStream\n",
    "import face_recognition\n",
    "import pickle\n",
    "import cv2\n",
    "import imutils\n",
    "import time\n",
    "import imageio"
   ]
  },
  {
   "cell_type": "code",
   "execution_count": 2,
   "id": "2dc77de4",
   "metadata": {},
   "outputs": [],
   "source": [
    "data = pickle.loads(open(\"output/encodings.pickle\", \"rb\").read())"
   ]
  },
  {
   "cell_type": "code",
   "execution_count": 3,
   "id": "fcf6db39",
   "metadata": {},
   "outputs": [],
   "source": [
    "reader = imageio.get_reader('Dataset/cgc.mp4')\n",
    "fps = reader.get_meta_data()['fps']\n",
    "writer = imageio.get_writer('output/cgc.mp4', fps = fps)\n",
    "for i, frame in enumerate(reader):\n",
    "    \n",
    "    rgb = cv2.cvtColor(frame, cv2.COLOR_BGR2RGB)\n",
    "    rgb = imutils.resize(frame, width=750)\n",
    "    r = frame.shape[1] / float(rgb.shape[1])\n",
    "    # detect the (x, y)-coordinates of the bounding boxes\n",
    "    # corresponding to each face in the input frame, then compute\n",
    "    # the facial embeddings for each face\n",
    "    boxes = face_recognition.face_locations(rgb,\n",
    "                                            model=\"cnn\")\n",
    "    encodings = face_recognition.face_encodings(rgb, boxes)\n",
    "    names = []\n",
    "    # Recognition step    \n",
    "    for encoding in encodings:\n",
    "    \n",
    "        # comparing the extract images with the embeddings images from dataset\n",
    "        matches = face_recognition.compare_faces(data[\"encodings\"], encoding)\n",
    "        name = \"Unknown\"\n",
    "        if True in matches:\n",
    "            # find the indexes of all matched faces then initialize a\n",
    "            # dictionary to count the total number of times each face\n",
    "            # was matched\n",
    "            matchedIdxs = [i for (i, b) in enumerate(matches) if b]\n",
    "            counts = {}\n",
    "            # loop over the matched indexes and maintain a count for\n",
    "            # each recognized face face\n",
    "            for i in matchedIdxs:\n",
    "                name = data[\"names\"][i]\n",
    "                counts[name] = counts.get(name, 0) + 1\n",
    "            # determine the recognized face with the largest number of\n",
    "            # votes (note: in the event of an unlikely tie Python will\n",
    "            # select first entry in the dictionary)\n",
    "            name = max(counts, key=counts.get)\n",
    "        names.append(name)\n",
    "\n",
    "\n",
    "    # update the list of names\n",
    "    \n",
    "    for ((top, right, bottom, left), name) in zip(boxes, names):\n",
    "        # rescale the face coordinates\n",
    "        top = int(top * r)\n",
    "        right = int(right * r)\n",
    "        bottom = int(bottom * r)\n",
    "        left = int(left * r)\n",
    "        # draw the predicted face name on the image\n",
    "        cv2.rectangle(frame, (left, top), (right, bottom),\n",
    "                      (0, 255, 0), 2)\n",
    "        y = top - 15 if top - 15 > 15 else top + 15\n",
    "        cv2.putText(frame, name, (left, y), cv2.FONT_HERSHEY_SIMPLEX,\n",
    "                    0.75, (0, 255, 0), 2)\n",
    "    # if the video writer is None *AND* we are supposed to write\n",
    "    # the output video to disk initialize the writer\n",
    "\n",
    "    \n",
    "    writer.append_data(frame)\n",
    "writer.close()"
   ]
  },
  {
   "cell_type": "code",
   "execution_count": null,
   "id": "3e028a4c",
   "metadata": {},
   "outputs": [],
   "source": []
  }
 ],
 "metadata": {
  "kernelspec": {
   "display_name": "Python 3",
   "language": "python",
   "name": "python3"
  },
  "language_info": {
   "codemirror_mode": {
    "name": "ipython",
    "version": 3
   },
   "file_extension": ".py",
   "mimetype": "text/x-python",
   "name": "python",
   "nbconvert_exporter": "python",
   "pygments_lexer": "ipython3",
   "version": "3.7.10"
  }
 },
 "nbformat": 4,
 "nbformat_minor": 5
}

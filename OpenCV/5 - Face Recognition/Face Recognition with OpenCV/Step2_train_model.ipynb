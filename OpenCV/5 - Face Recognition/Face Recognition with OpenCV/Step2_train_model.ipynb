{
 "cells": [
  {
   "cell_type": "markdown",
   "id": "6c18e7f9",
   "metadata": {},
   "source": [
    "# Training the model with a classification model\n",
    "\n",
    "Once we've extracted the feature vector, we can consider a classification model. Here, we're following the method proposed by PyImageSearch, so we consider the Support Vector Machine model. The idea is not to have a perfect model, just something quickly to deploy. We do not consider the GridSearchCV due the lack of data, but the model tends to be reasonably acceptable."
   ]
  },
  {
   "cell_type": "markdown",
   "id": "137a1ded",
   "metadata": {},
   "source": [
    "## Importing Libraries"
   ]
  },
  {
   "cell_type": "code",
   "execution_count": 1,
   "id": "23339625",
   "metadata": {},
   "outputs": [],
   "source": [
    "from sklearn.preprocessing import LabelEncoder\n",
    "from sklearn.svm import SVC\n",
    "import argparse\n",
    "import pickle"
   ]
  },
  {
   "cell_type": "markdown",
   "id": "83a232bd",
   "metadata": {},
   "source": [
    "## Loading the serialized feature vectors"
   ]
  },
  {
   "cell_type": "code",
   "execution_count": 3,
   "id": "b0ccbb5e",
   "metadata": {},
   "outputs": [],
   "source": [
    "data = pickle.loads(open(\"output/embeddings1.pickle\", \"rb\").read()) # defining the dataset"
   ]
  },
  {
   "cell_type": "markdown",
   "id": "da4fcb77",
   "metadata": {},
   "source": [
    "**Encoding the labels**"
   ]
  },
  {
   "cell_type": "code",
   "execution_count": 4,
   "id": "a041e34d",
   "metadata": {},
   "outputs": [],
   "source": [
    "le = LabelEncoder()\n",
    "labels = le.fit_transform(data[\"names\"]) # creating the encoded label list"
   ]
  },
  {
   "cell_type": "markdown",
   "id": "b04f4c48",
   "metadata": {},
   "source": [
    "## Building the model"
   ]
  },
  {
   "cell_type": "markdown",
   "id": "3911c585",
   "metadata": {},
   "source": [
    "**Defining the model**"
   ]
  },
  {
   "cell_type": "code",
   "execution_count": 6,
   "id": "e6c7b004",
   "metadata": {},
   "outputs": [],
   "source": [
    "recognizer = SVC(C=1.0, kernel=\"linear\", probability=True)"
   ]
  },
  {
   "cell_type": "markdown",
   "id": "82ae0833",
   "metadata": {},
   "source": [
    "**Training the model**"
   ]
  },
  {
   "cell_type": "code",
   "execution_count": 7,
   "id": "d22a4711",
   "metadata": {},
   "outputs": [
    {
     "data": {
      "text/plain": [
       "SVC(kernel='linear', probability=True)"
      ]
     },
     "execution_count": 7,
     "metadata": {},
     "output_type": "execute_result"
    }
   ],
   "source": [
    "recognizer.fit(data[\"embeddings\"], labels)"
   ]
  },
  {
   "cell_type": "markdown",
   "id": "f4f7d5fd",
   "metadata": {},
   "source": [
    "## Saving the trained model and label list"
   ]
  },
  {
   "cell_type": "code",
   "execution_count": 8,
   "id": "46ff803a",
   "metadata": {},
   "outputs": [],
   "source": [
    "f = open(\"output/recognizer1.pickle\", \"wb\")\n",
    "f.write(pickle.dumps(recognizer))\n",
    "f.close()"
   ]
  },
  {
   "cell_type": "code",
   "execution_count": 9,
   "id": "8a65cc67",
   "metadata": {},
   "outputs": [],
   "source": [
    "f = open(\"output/le1.pickle\", \"wb\")\n",
    "f.write(pickle.dumps(le))\n",
    "f.close()"
   ]
  },
  {
   "cell_type": "markdown",
   "id": "c6af47cc",
   "metadata": {},
   "source": [
    "**Next step, recognize on images**"
   ]
  }
 ],
 "metadata": {
  "kernelspec": {
   "display_name": "Python 3",
   "language": "python",
   "name": "python3"
  },
  "language_info": {
   "codemirror_mode": {
    "name": "ipython",
    "version": 3
   },
   "file_extension": ".py",
   "mimetype": "text/x-python",
   "name": "python",
   "nbconvert_exporter": "python",
   "pygments_lexer": "ipython3",
   "version": "3.7.10"
  }
 },
 "nbformat": 4,
 "nbformat_minor": 5
}

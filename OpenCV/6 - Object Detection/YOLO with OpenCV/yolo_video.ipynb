{
 "cells": [
  {
   "cell_type": "markdown",
   "id": "405bdd8b",
   "metadata": {},
   "source": [
    "# Detecting on videos with YOLOv3 trained on Coco\n",
    "\n",
    "Here, the code to make detection with the pre-trained YOLOv3 is the same for image detection. We present a way to make detections with the webcam, if you have one, enjoy it. And also, a simple way to read a video, make detection over it and then, recorder a new video with the detection. For this example, we consider a video of Brasilia traffic, with an amazing sunset as background."
   ]
  },
  {
   "cell_type": "markdown",
   "id": "bbd58474",
   "metadata": {},
   "source": [
    "## Importing Libraries"
   ]
  },
  {
   "cell_type": "code",
   "execution_count": 1,
   "id": "9fc3a691",
   "metadata": {},
   "outputs": [],
   "source": [
    "import numpy as np\n",
    "import time\n",
    "import cv2\n",
    "import os\n",
    "import imageio\n",
    "import imutils"
   ]
  },
  {
   "cell_type": "markdown",
   "id": "231647d5",
   "metadata": {},
   "source": [
    "## Setting the model"
   ]
  },
  {
   "cell_type": "code",
   "execution_count": 2,
   "id": "2245e641",
   "metadata": {},
   "outputs": [],
   "source": [
    "# Load the COCO class labels that our YOLO model was trained on\n",
    "yolo = \"yolo-coco\"\n",
    "labelsPath = os.path.sep.join([yolo, \"coco.names\"])\n",
    "LABELS = open(labelsPath).read().strip().split(\"\\n\")"
   ]
  },
  {
   "cell_type": "code",
   "execution_count": 3,
   "id": "357f1624",
   "metadata": {},
   "outputs": [],
   "source": [
    "# Initialize the color list to represent each possible class label\n",
    "np.random.seed(42)\n",
    "COLORS = np.random.randint(0, 255, size=(len(LABELS), 3), dtype=\"uint8\")"
   ]
  },
  {
   "cell_type": "code",
   "execution_count": 4,
   "id": "b75cfed1",
   "metadata": {},
   "outputs": [],
   "source": [
    "# Derive the paths to the YOLO weights and model configuration\n",
    "weightsPath = os.path.sep.join([yolo, \"yolov3.weights\"])\n",
    "configPath = os.path.sep.join([yolo, \"yolov3.cfg\"])"
   ]
  },
  {
   "cell_type": "code",
   "execution_count": 5,
   "id": "7234c986",
   "metadata": {},
   "outputs": [],
   "source": [
    "net = cv2.dnn.readNetFromDarknet(configPath, weightsPath)"
   ]
  },
  {
   "cell_type": "code",
   "execution_count": null,
   "id": "8838c2f0",
   "metadata": {},
   "outputs": [],
   "source": [
    "## Video stream from webcam"
   ]
  },
  {
   "cell_type": "code",
   "execution_count": 6,
   "id": "5228edb4",
   "metadata": {},
   "outputs": [],
   "source": [
    "cap = cv2.VideoCapture(0)"
   ]
  },
  {
   "cell_type": "code",
   "execution_count": 8,
   "id": "9da1ad23",
   "metadata": {},
   "outputs": [],
   "source": [
    "while cap.isOpened():\n",
    "    ret, frame = cap.read()\n",
    "    frame = imutils.resize(frame, width=640, height=640)\n",
    "    (H, W) = frame.shape[:2]\n",
    "    \n",
    "    ln = net.getLayerNames()\n",
    "    ln = [ln[i[0] - 1] for i in net.getUnconnectedOutLayers()]\n",
    "    \n",
    "    blob = cv2.dnn.blobFromImage(frame, 1 / 255.0, (416, 416), swapRB=True, crop=False)\n",
    "    net.setInput(blob)\n",
    "    layerOutputs = net.forward(ln)\n",
    "    \n",
    "    boxes = []\n",
    "    confidences = []\n",
    "    classIDs = []\n",
    "    \n",
    "    # Loop over each one of the layer outputs\n",
    "    for output in layerOutputs:\n",
    "        # loop over each one of the detections\n",
    "        for detection in output:\n",
    "            # extract the class ID and confidence (i.e, probability) of the current object detection\n",
    "            scores = detection[5:]\n",
    "            classID = np.argmax(scores)\n",
    "            confidence = scores[classID]\n",
    "            # filter out weak predictions by ensuring the detected probabilityy is greater than the minimum probability\n",
    "            if confidence > 0.5:\n",
    "                # scale the bounding box coordinates back relative to the size of the image, keepin in mind that YOLO\n",
    "                # actually returns the center (x,y) coordinates of the bounding box followed by the boxes width and height\n",
    "                box = detection[0:4] * np.array([W, H, W, H])\n",
    "                (centerX, centerY, width, height) = box.astype(\"int\")\n",
    "                # use the center (x,y) coordinates to derive the top and left corner of the bounding box\n",
    "                x = int(centerX - (width / 2))\n",
    "                y = int(centerY - (height / 2))\n",
    "                # update the list of bounding box coordinates, confidences and class IDs\n",
    "                boxes.append([x, y, int(width), int(height)])\n",
    "                confidences.append(float(confidence))\n",
    "                classIDs.append(classID)\n",
    "    \n",
    "    idxs = cv2.dnn.NMSBoxes(boxes, confidences, 0.5, 0.3)\n",
    "    if len(idxs) > 0:\n",
    "        # loop over the indexes we are keeping\n",
    "        for i in idxs.flatten():\n",
    "            # extract the bounding box coordinates\n",
    "            (x, y) = (boxes[i][0], boxes[i][1])\n",
    "            (w, h) = (boxes[i][2], boxes[i][3])\n",
    "            # draw a bounding box rectangle and label on the image\n",
    "            color = [int(c) for c in COLORS[classIDs[i]]]\n",
    "            cv2.rectangle(frame, (x, y), (x + w, y + h), color, 2)\n",
    "            text = \"{}: {:.4f}\".format(LABELS[classIDs[i]], confidences[i])\n",
    "            cv2.putText(frame, text, (x, y - 5), cv2.FONT_HERSHEY_SIMPLEX, 0.5, color, 2)\n",
    "    cv2.imshow(\"Output\", frame)\n",
    "    if cv2.waitKey(10) & 0xFF == ord('q'):\n",
    "        break\n",
    "cap.release()\n",
    "cv2.destroyAllWindows()"
   ]
  },
  {
   "cell_type": "markdown",
   "id": "9f81d574",
   "metadata": {},
   "source": [
    "## Video stream from a file, a simple way to record it."
   ]
  },
  {
   "cell_type": "code",
   "execution_count": 9,
   "id": "f09d538b",
   "metadata": {},
   "outputs": [
    {
     "name": "stdout",
     "output_type": "stream",
     "text": [
      "25\n"
     ]
    }
   ],
   "source": [
    "reader = imageio.get_reader(\"../dataset/videos/cars.mkv\") # to read the file and grab total of frames\n",
    "fps = reader.get_meta_data()['fps']\n",
    "writer = imageio.get_writer('test_yolos.mp4', fps = round(fps)) # object to write frame and concatenate them\n",
    "print(round(fps))"
   ]
  },
  {
   "cell_type": "code",
   "execution_count": 10,
   "id": "f98731ff",
   "metadata": {},
   "outputs": [],
   "source": [
    "for i, frame in enumerate(reader):\n",
    "    \n",
    "    frame = imutils.resize(frame, width=640, height=640)\n",
    "    (H, W) = frame.shape[:2]\n",
    "    \n",
    "    ln = net.getLayerNames()\n",
    "    ln = [ln[i[0] - 1] for i in net.getUnconnectedOutLayers()]\n",
    "    \n",
    "    blob = cv2.dnn.blobFromImage(frame, 1 / 255.0, (416, 416), swapRB=True, crop=False)\n",
    "    net.setInput(blob)\n",
    "    layerOutputs = net.forward(ln)\n",
    "    \n",
    "    boxes = []\n",
    "    confidences = []\n",
    "    classIDs = []\n",
    "    \n",
    "    # Loop over each one of the layer outputs\n",
    "    for output in layerOutputs:\n",
    "        # loop over each one of the detections\n",
    "        for detection in output:\n",
    "            # extract the class ID and confidence (i.e, probability) of the current object detection\n",
    "            scores = detection[5:]\n",
    "            classID = np.argmax(scores)\n",
    "            confidence = scores[classID]\n",
    "            # filter out weak predictions by ensuring the detected probabilityy is greater than the minimum probability\n",
    "            if confidence > 0.5:\n",
    "                # scale the bounding box coordinates back relative to the size of the image, keepin in mind that YOLO\n",
    "                # actually returns the center (x,y) coordinates of the bounding box followed by the boxes width and height\n",
    "                box = detection[0:4] * np.array([W, H, W, H])\n",
    "                (centerX, centerY, width, height) = box.astype(\"int\")\n",
    "                # use the center (x,y) coordinates to derive the top and left corner of the bounding box\n",
    "                x = int(centerX - (width / 2))\n",
    "                y = int(centerY - (height / 2))\n",
    "                # update the list of bounding box coordinates, confidences and class IDs\n",
    "                boxes.append([x, y, int(width), int(height)])\n",
    "                confidences.append(float(confidence))\n",
    "                classIDs.append(classID)\n",
    "    \n",
    "    idxs = cv2.dnn.NMSBoxes(boxes, confidences, 0.5, 0.3)\n",
    "    if len(idxs) > 0:\n",
    "        # loop over the indexes we are keeping\n",
    "        for i in idxs.flatten():\n",
    "            # extract the bounding box coordinates\n",
    "            (x, y) = (boxes[i][0], boxes[i][1])\n",
    "            (w, h) = (boxes[i][2], boxes[i][3])\n",
    "            # draw a bounding box rectangle and label on the image\n",
    "            color = [int(c) for c in COLORS[classIDs[i]]]\n",
    "            cv2.rectangle(frame, (x, y), (x + w, y + h), color, 2)\n",
    "            text = \"{}: {:.4f}\".format(LABELS[classIDs[i]], confidences[i])\n",
    "            cv2.putText(frame, text, (x, y - 5), cv2.FONT_HERSHEY_SIMPLEX, 0.5, color, 2)\n",
    "    writer.append_data(frame)\n",
    "writer.close()"
   ]
  }
 ],
 "metadata": {
  "kernelspec": {
   "display_name": "Python 3 (ipykernel)",
   "language": "python",
   "name": "python3"
  },
  "language_info": {
   "codemirror_mode": {
    "name": "ipython",
    "version": 3
   },
   "file_extension": ".py",
   "mimetype": "text/x-python",
   "name": "python",
   "nbconvert_exporter": "python",
   "pygments_lexer": "ipython3",
   "version": "3.7.0"
  }
 },
 "nbformat": 4,
 "nbformat_minor": 5
}
